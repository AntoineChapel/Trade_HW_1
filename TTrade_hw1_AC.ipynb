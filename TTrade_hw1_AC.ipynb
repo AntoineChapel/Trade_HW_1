{
  "nbformat": 4,
  "nbformat_minor": 0,
  "metadata": {
    "colab": {
      "provenance": [],
      "machine_shape": "hm",
      "authorship_tag": "ABX9TyOyJEqEUXjjc7c7DVl4pfuG",
      "include_colab_link": true
    },
    "kernelspec": {
      "name": "python3",
      "display_name": "Python 3"
    },
    "language_info": {
      "name": "python"
    }
  },
  "cells": [
    {
      "cell_type": "markdown",
      "metadata": {
        "id": "view-in-github",
        "colab_type": "text"
      },
      "source": [
        "<a href=\"https://colab.research.google.com/github/AntoineChapel/Trade_HW_1/blob/main/TTrade_hw1_AC.ipynb\" target=\"_parent\"><img src=\"https://colab.research.google.com/assets/colab-badge.svg\" alt=\"Open In Colab\"/></a>"
      ]
    },
    {
      "cell_type": "code",
      "execution_count": null,
      "metadata": {
        "id": "tjiv8zTEINiQ"
      },
      "outputs": [],
      "source": [
        "import numpy as np\n",
        "import jax\n",
        "import jax.numpy as jnp\n",
        "from jax import jit, grad, vmap\n",
        "import time"
      ]
    },
    {
      "cell_type": "markdown",
      "source": [
        "### Solver: Armington model"
      ],
      "metadata": {
        "id": "snllsBjcpT2S"
      }
    },
    {
      "cell_type": "code",
      "source": [
        "def Armington_solver(A: np.ndarray,\n",
        "                     L: np.ndarray,\n",
        "                     tau: np.ndarray,\n",
        "                     sigma: float,\n",
        "                     damp: float = 0.9,\n",
        "                     verbose = True,\n",
        "                     normalize = True) -> np.ndarray:\n",
        "  \"\"\"\n",
        "  Solves the Armington model for N countries\n",
        "  Takes as input:\n",
        "    * A (np.ndarray) : a vector of productivities of dimension N x 1\n",
        "    * L (np.ndarray) : a vector of labor endowment of dimension N x 1\n",
        "    * tau (np.ndarray) : a matrix of distances of dimension N x N, such that the\n",
        "           entry on row i, column j, tau_{ij} is the bilateral trade cost\n",
        "           between countries i and j\n",
        "    * sigma (float) : elasticity parameter (scalar)\n",
        "    * damp (float in [0, 1) ) : parametrizes the convex combination step of the\n",
        "                                iterative procedure. With damp=0 (not\n",
        "                                recommended), full updating.\n",
        "  \"\"\"\n",
        "\n",
        "  tic = time.time()\n",
        "\n",
        "  A = A.reshape(-1, 1)\n",
        "  L = L.reshape(-1, 1)\n",
        "\n",
        "  assert A.shape == L.shape, \"The two arrays A and L should have the same size\"\n",
        "\n",
        "  N = A.shape[0]\n",
        "  assert tau.shape[0] == tau.shape[1], \"The tau matrix should be square\"\n",
        "  assert tau.shape[0] == N, \"The tau matrix should have dimension N x N\"\n",
        "  assert sigma > 0, \"The elasticity parameter sigma should be strictly positive\"\n",
        "  assert damp >= 0 and damp < 1, \"The damping parameter should be in [0, 1)\"\n",
        "\n",
        "  epsilon = sigma - 1\n",
        "\n",
        "  A_jnp = (jnp.array(A)).reshape(-1, 1)\n",
        "  L_jnp = (jnp.array(L)).reshape(-1, 1)\n",
        "  tau_jnp = jnp.array(tau)\n",
        "  T_jnp = A_jnp**epsilon\n",
        "\n",
        "  tol = 1e-3\n",
        "  max_iter = 1e5\n",
        "  norm = 1e6\n",
        "  iter_count = 0\n",
        "\n",
        "  w = jnp.ones((N, 1))\n",
        "\n",
        "  def D_j(T, w, tau, epsilon, j):\n",
        "    return T.T@((w*(tau[:, j]).reshape(-1, 1))**(-epsilon))\n",
        "  D_j_vectorized = vmap(D_j, in_axes=(None, None, None, None, 0))\n",
        "\n",
        "  while norm > tol and iter_count < max_iter:\n",
        "    Y = w * L_jnp\n",
        "    lambda_D = (D_j_vectorized(T_jnp, w, tau_jnp, epsilon, jnp.arange(N))).reshape(1, -1)\n",
        "    lambda_mat = (T_jnp.T*(w*tau_jnp)**(-epsilon)) / lambda_D\n",
        "    Y_prime = lambda_mat@Y\n",
        "\n",
        "    norm = jnp.max(jnp.abs(Y_prime - Y))\n",
        "    Y = (damp*Y + (1-damp)*Y_prime).reshape(-1, 1)\n",
        "\n",
        "    w = (Y/L_jnp).reshape(-1, 1)\n",
        "    if normalize:\n",
        "      w = w.at[0].set(1) #normalization enforcement: w_1 = 1\n",
        "    iter_count += 1\n",
        "\n",
        "    if verbose==True and iter_count%20==0:\n",
        "      print(f\"Iteration {iter_count}, norm: {norm}\")\n",
        "\n",
        "  tac = time.time()\n",
        "\n",
        "  if iter_count == max_iter:\n",
        "    print(\"Maximum number of iterations reached\")\n",
        "  else:\n",
        "    print(f\"Convergence reached in {iter_count} iterations and {tac - tic} seconds.\")\n",
        "\n",
        "  return np.array(w)"
      ],
      "metadata": {
        "id": "i4q6PAc5IT3R"
      },
      "execution_count": null,
      "outputs": []
    },
    {
      "cell_type": "code",
      "source": [
        "### Example:\n",
        "\n",
        "np.random.seed(123)\n",
        "n_countries = 30\n",
        "A = np.random.normal(1, 0.1, size=(n_countries, 1))\n",
        "L = np.random.normal(5, 0.1, size=(n_countries, 1))\n",
        "tau = np.random.normal(5, 0.4, size=(n_countries, n_countries))\n",
        "sigma = 5\n",
        "\n",
        "w = Armington_solver(A, L, tau, sigma, verbose=True)"
      ],
      "metadata": {
        "colab": {
          "base_uri": "https://localhost:8080/"
        },
        "id": "GAByhPP2oHOd",
        "outputId": "4a7314e4-7520-4ede-bf45-5e03507f0684"
      },
      "execution_count": null,
      "outputs": [
        {
          "output_type": "stream",
          "name": "stdout",
          "text": [
            "Iteration 20, norm: 0.06522607803344727\n",
            "Iteration 40, norm: 0.053789615631103516\n",
            "Iteration 60, norm: 0.044370174407958984\n",
            "Iteration 80, norm: 0.036608219146728516\n",
            "Iteration 100, norm: 0.030209064483642578\n",
            "Iteration 120, norm: 0.024932384490966797\n",
            "Iteration 140, norm: 0.020577430725097656\n",
            "Iteration 160, norm: 0.016986370086669922\n",
            "Iteration 180, norm: 0.014017581939697266\n",
            "Iteration 200, norm: 0.011566638946533203\n",
            "Iteration 220, norm: 0.00954437255859375\n",
            "Iteration 240, norm: 0.00787353515625\n",
            "Iteration 260, norm: 0.006495952606201172\n",
            "Iteration 280, norm: 0.005356788635253906\n",
            "Iteration 300, norm: 0.004414081573486328\n",
            "Iteration 320, norm: 0.003635883331298828\n",
            "Iteration 340, norm: 0.0029935836791992188\n",
            "Iteration 360, norm: 0.002464771270751953\n",
            "Iteration 380, norm: 0.002025604248046875\n",
            "Iteration 400, norm: 0.0016608238220214844\n",
            "Iteration 420, norm: 0.0013623237609863281\n",
            "Iteration 440, norm: 0.0011148452758789062\n",
            "Convergence reached in 451 iterations and 3.0502233505249023 seconds.\n"
          ]
        }
      ]
    },
    {
      "cell_type": "code",
      "source": [
        "w.T"
      ],
      "metadata": {
        "colab": {
          "base_uri": "https://localhost:8080/"
        },
        "id": "sH1pQhxwoRuf",
        "outputId": "7fcf5ef8-b213-4e19-b747-c25bf080180c"
      },
      "execution_count": null,
      "outputs": [
        {
          "output_type": "execute_result",
          "data": {
            "text/plain": [
              "array([[1.        , 1.0147899 , 0.98749226, 0.99407387, 1.0079896 ,\n",
              "        1.0054353 , 0.98809654, 1.021088  , 1.0073427 , 1.0014774 ,\n",
              "        1.0048668 , 1.0116875 , 0.9936751 , 0.98970354, 0.9882356 ,\n",
              "        0.9853505 , 0.98072785, 0.9725412 , 0.9800803 , 1.009552  ,\n",
              "        0.98060745, 0.9859122 , 0.97389203, 1.0425824 , 1.0244395 ,\n",
              "        0.997455  , 1.0073949 , 0.9813022 , 0.9871493 , 1.0052215 ]],\n",
              "      dtype=float32)"
            ]
          },
          "metadata": {},
          "execution_count": 4
        }
      ]
    },
    {
      "cell_type": "markdown",
      "source": [
        "### Unit Test: $\\tau_{ij}=1$ $\\forall i, j$"
      ],
      "metadata": {
        "id": "QZsbjEi1pRf3"
      }
    },
    {
      "cell_type": "code",
      "source": [
        "np.random.seed(123)\n",
        "n_countries = 100\n",
        "A_test = np.ones((n_countries, 1))\n",
        "L_test = np.random.normal(1, 0.1, size=(n_countries, 1))**2\n",
        "L_test[0] = 1 #normalization\n",
        "\n",
        "tau_test = np.ones((n_countries, n_countries))\n",
        "sigma_test = 5"
      ],
      "metadata": {
        "id": "eMkEtdDzZQ1T"
      },
      "execution_count": null,
      "outputs": []
    },
    {
      "cell_type": "code",
      "source": [
        "def unit_test(A, L, sigma, tol=1e-2):\n",
        "  n_countries = A.shape[0]\n",
        "  closed_form = L**(-1/sigma)\n",
        "\n",
        "  tau = np.ones((n_countries, n_countries))\n",
        "  equilibrium_w = Armington_solver(A, L, tau, sigma, verbose=True, damp=0.9)\n",
        "\n",
        "  return jnp.max(jnp.abs(equilibrium_w - closed_form)) < tol"
      ],
      "metadata": {
        "id": "VDUMY40l3CtO"
      },
      "execution_count": null,
      "outputs": []
    },
    {
      "cell_type": "code",
      "source": [
        "unit_test(A_test, L_test, sigma_test)"
      ],
      "metadata": {
        "colab": {
          "base_uri": "https://localhost:8080/"
        },
        "collapsed": true,
        "id": "ZLA9MWLqJPDY",
        "outputId": "3bc599a7-c5e0-4679-8306-fea302b74eb3"
      },
      "execution_count": null,
      "outputs": [
        {
          "output_type": "stream",
          "name": "stdout",
          "text": [
            "Iteration 20, norm: 0.03693592548370361\n",
            "Iteration 40, norm: 0.03335893154144287\n",
            "Iteration 60, norm: 0.0301363468170166\n",
            "Iteration 80, norm: 0.027231335639953613\n",
            "Iteration 100, norm: 0.024611234664916992\n",
            "Iteration 120, norm: 0.022247314453125\n",
            "Iteration 140, norm: 0.020113468170166016\n",
            "Iteration 160, norm: 0.01818668842315674\n",
            "Iteration 180, norm: 0.01644730567932129\n",
            "Iteration 200, norm: 0.014876246452331543\n",
            "Iteration 220, norm: 0.01345670223236084\n",
            "Iteration 240, norm: 0.012173295021057129\n",
            "Iteration 260, norm: 0.011012911796569824\n",
            "Iteration 280, norm: 0.009963512420654297\n",
            "Iteration 300, norm: 0.00901496410369873\n",
            "Iteration 320, norm: 0.00815737247467041\n",
            "Iteration 340, norm: 0.007381796836853027\n",
            "Iteration 360, norm: 0.006679892539978027\n",
            "Iteration 380, norm: 0.006044745445251465\n",
            "Iteration 400, norm: 0.0054700374603271484\n",
            "Iteration 420, norm: 0.0049495697021484375\n",
            "Iteration 440, norm: 0.004479169845581055\n",
            "Iteration 460, norm: 0.0040531158447265625\n",
            "Iteration 480, norm: 0.0036679506301879883\n",
            "Iteration 500, norm: 0.0033185482025146484\n",
            "Iteration 520, norm: 0.003002643585205078\n",
            "Iteration 540, norm: 0.002716541290283203\n",
            "Iteration 560, norm: 0.0024576187133789062\n",
            "Iteration 580, norm: 0.002222895622253418\n",
            "Iteration 600, norm: 0.002010941505432129\n",
            "Iteration 620, norm: 0.0018184185028076172\n",
            "Iteration 640, norm: 0.001644134521484375\n",
            "Iteration 660, norm: 0.0014864206314086914\n",
            "Iteration 680, norm: 0.0013436079025268555\n",
            "Iteration 700, norm: 0.0012142658233642578\n",
            "Iteration 720, norm: 0.0010982751846313477\n",
            "Convergence reached in 739 iterations and 3.6250686645507812 seconds.\n"
          ]
        },
        {
          "output_type": "execute_result",
          "data": {
            "text/plain": [
              "Array(True, dtype=bool)"
            ]
          },
          "metadata": {},
          "execution_count": 7
        }
      ]
    },
    {
      "cell_type": "markdown",
      "source": [
        "### Gains from Trade"
      ],
      "metadata": {
        "id": "IJX8s2QncUrW"
      }
    },
    {
      "cell_type": "code",
      "source": [
        "np.random.seed(123)\n",
        "n_countries = 10\n",
        "A_test2 = np.ones((n_countries, 1))\n",
        "L_test2 = np.random.normal(2, 0.1, size=(n_countries, 1))**2\n",
        "L_test2[0] = 1 #normalization\n",
        "\n",
        "tau_test2 = np.ones((n_countries, n_countries))\n",
        "sigma_test2 = 10"
      ],
      "metadata": {
        "id": "u6ifmNs-uEgp"
      },
      "execution_count": null,
      "outputs": []
    },
    {
      "cell_type": "code",
      "source": [
        "def GFT(A, L, tau, sigma, damp = 0.9):\n",
        "  A = A.reshape(-1, 1)\n",
        "  L = L.reshape(-1, 1)\n",
        "\n",
        "  w_FT = Armington_solver(A, L, tau, sigma, verbose=False, normalize=True, damp=damp).reshape(-1, 1)\n",
        "\n",
        "  P_FT = (jnp.sum(((w_FT*tau/A)**(1-sigma)), axis=0)**(1/(1-sigma))).reshape(-1, 1)\n",
        "\n",
        "  real_income_FT = (w_FT*L)/P_FT\n",
        "  real_income_autarky = (A*L)\n",
        "\n",
        "  return np.array(real_income_FT)/np.array(real_income_autarky)"
      ],
      "metadata": {
        "id": "iyiWP7KEcWLh"
      },
      "execution_count": null,
      "outputs": []
    },
    {
      "cell_type": "code",
      "source": [
        "GFT(A_test2, L_test2, tau_test2, sigma_test2)"
      ],
      "metadata": {
        "colab": {
          "base_uri": "https://localhost:8080/"
        },
        "id": "6lOl86cLfG9r",
        "outputId": "062f41d4-5064-4d64-c25f-e7c515eda4b7"
      },
      "execution_count": null,
      "outputs": [
        {
          "output_type": "stream",
          "name": "stdout",
          "text": [
            "Convergence reached in 212 iterations and 1.3409764766693115 seconds.\n"
          ]
        },
        {
          "output_type": "execute_result",
          "data": {
            "text/plain": [
              "array([[1.46922958],\n",
              "       [1.2667754 ],\n",
              "       [1.27557532],\n",
              "       [1.29935464],\n",
              "       [1.28669717],\n",
              "       [1.25902727],\n",
              "       [1.31268858],\n",
              "       [1.28472283],\n",
              "       [1.26355909],\n",
              "       [1.29054959]])"
            ]
          },
          "metadata": {},
          "execution_count": 10
        }
      ]
    }
  ]
}